{
 "cells": [
  {
   "cell_type": "code",
   "execution_count": 1,
   "id": "a72952cc",
   "metadata": {},
   "outputs": [],
   "source": [
    "import pandas as pd\n",
    "import numpy as np\n",
    "from sklearn.cluster import KMeans"
   ]
  },
  {
   "cell_type": "code",
   "execution_count": 2,
   "id": "9f545b39",
   "metadata": {},
   "outputs": [],
   "source": [
    "movies_data = pd.read_csv('movies.csv')\n",
    "ratings_data = pd.read_csv('ratings.csv')\n",
    "tags_data = pd.read_csv('tags.csv')"
   ]
  },
  {
   "cell_type": "code",
   "execution_count": 3,
   "id": "4c88fb40",
   "metadata": {},
   "outputs": [],
   "source": [
    "popular_movies_ids = ratings_data['movieId'].value_counts()[ratings_data['movieId'].value_counts() > 15].keys()\n",
    "popular_movies = movies_data.loc[movies_data['movieId'].isin(popular_movies_ids)]\n",
    "active_users_ids = ratings_data['userId'].value_counts()[ratings_data['userId'].value_counts() > 15].keys()\n",
    "ratings_reduced = ratings_data.loc[ratings_data['movieId'].isin(popular_movies_ids) & ratings_data['userId'].isin(active_users_ids)]"
   ]
  },
  {
   "cell_type": "code",
   "execution_count": 4,
   "id": "692c7e3f",
   "metadata": {},
   "outputs": [],
   "source": [
    "genres = ['Action','Adventure','Animation','Children','Comedy','Crime','Documentary','Drama','Fantasy','Film-Noir','Horror','Musical','Mystery','Romance','Sci-Fi','Thriller','War','Western']\n",
    "data = pd.DataFrame()\n",
    "for genre in genres:        \n",
    "    genre_movies = popular_movies[popular_movies['genres'].str.contains(genre)]\n",
    "    avg_genre_votes_per_user = ratings_reduced[ratings_reduced['movieId'].isin(genre_movies['movieId'])].loc[:, ['userId', 'rating']].groupby(['userId'])['rating'].mean().round(2)\n",
    "    data = pd.concat([data, avg_genre_votes_per_user], axis=1)\n",
    "data.columns = genres"
   ]
  },
  {
   "cell_type": "code",
   "execution_count": 11,
   "id": "a417be68",
   "metadata": {},
   "outputs": [
    {
     "name": "stdout",
     "output_type": "stream",
     "text": [
      "        Action  Adventure  Animation  Children  Comedy  Crime  Documentary  \\\n",
      "1         4.12       3.73       4.00      3.83    3.87   4.06         2.00   \n",
      "2         3.70       3.91       3.62      3.66    3.32   3.14         0.00   \n",
      "3         3.64       3.69       3.98      3.71    3.45   3.89         3.17   \n",
      "4         3.19       3.07       3.48      3.21    3.61   3.97         4.38   \n",
      "5         3.72       3.86       3.75      3.33    3.57   4.14         0.00   \n",
      "...        ...        ...        ...       ...     ...    ...          ...   \n",
      "152497    0.00       0.00       0.00      0.00    4.00   0.00         0.00   \n",
      "153119    0.00       0.00       0.00      0.00    4.50   0.00         0.00   \n",
      "156909    0.00       0.00       0.00      0.00    5.00   0.00         0.00   \n",
      "160453    0.00       0.00       0.00      0.00    3.92   3.83         0.00   \n",
      "156588    0.00       0.00       0.00      0.00    0.00   3.50         0.00   \n",
      "\n",
      "        Drama  Fantasy  Film-Noir  Horror  Musical  Mystery  Romance  Sci-Fi  \\\n",
      "1        3.87     3.60        3.5    3.50     3.70     3.50     4.17    3.70   \n",
      "2        3.57     3.98        0.0    4.00     3.27     3.69     3.16    4.02   \n",
      "3        3.89     3.74        4.3    3.54     3.58     3.89     3.53    3.70   \n",
      "4        3.74     2.83        0.0    3.15     3.64     3.81     3.45    3.17   \n",
      "5        3.82     3.50        0.0    4.67     3.71     4.71     3.55    4.09   \n",
      "...       ...      ...        ...     ...      ...      ...      ...     ...   \n",
      "152497   4.34     0.00        0.0    0.00     5.00     0.00     4.26    5.00   \n",
      "153119   4.70     5.00        0.0    0.00     4.00     4.50     4.50    4.20   \n",
      "156909   5.00     0.00        0.0    0.00     0.00     0.00     5.00    0.00   \n",
      "160453   3.98     3.83        0.0    0.00     3.75     4.50     3.91    0.00   \n",
      "156588   2.83     2.50        0.0    2.69     0.00     2.81     2.50    0.00   \n",
      "\n",
      "        Thriller   War  Western  \n",
      "1           4.30  3.90     2.50  \n",
      "2           3.83  3.43     2.50  \n",
      "3           3.69  3.69     3.75  \n",
      "4           3.54  3.33     2.83  \n",
      "5           4.00  4.50     3.00  \n",
      "...          ...   ...      ...  \n",
      "152497      0.00  4.67     0.00  \n",
      "153119      4.20  4.75     0.00  \n",
      "156909      0.00  0.00     0.00  \n",
      "160453      4.25  4.50     0.00  \n",
      "156588      2.86  0.00     0.00  \n",
      "\n",
      "[162541 rows x 18 columns]\n"
     ]
    }
   ],
   "source": [
    "# data.replace(np.nan, 0)\n",
    "data = data.fillna(0)\n",
    "print(data)"
   ]
  },
  {
   "cell_type": "code",
   "execution_count": 12,
   "id": "4ad9fd52",
   "metadata": {},
   "outputs": [],
   "source": [
    "k_means = KMeans(n_clusters=5, random_state=0)\n",
    "labels = k_means.fit_predict(data)\n",
    "clusters = [[]] * 5\n",
    "for i in range(5):\n",
    "    temp = []\n",
    "    for j in range(len(labels)):\n",
    "        if labels[j] == i:\n",
    "            temp.append(data.index[j])\n",
    "    clusters[i] = temp"
   ]
  },
  {
   "cell_type": "code",
   "execution_count": 21,
   "id": "316cc90d",
   "metadata": {},
   "outputs": [
    {
     "name": "stdout",
     "output_type": "stream",
     "text": [
      "best: Documentary (4.0), worst: Horror (3.5)\n",
      "best: War (3.88), worst: Animation (2.0)\n",
      "best: Animation (4.0), worst: Western (1.5)\n",
      "best: War (4.0), worst: Film-Noir (1.5)\n",
      "best: Film-Noir (4.0), worst: Documentary (1.17)\n"
     ]
    }
   ],
   "source": [
    "for cluster_idx, cluster in enumerate(clusters):\n",
    "    genres = ['Action','Adventure','Animation','Children','Comedy','Crime','Documentary','Drama','Fantasy','Film-Noir','Horror','Musical','Mystery','Romance','Sci-Fi','Thriller','War','Western']\n",
    "    data = pd.DataFrame()\n",
    "    for genre in genres:        \n",
    "        genre_movies = popular_movies[popular_movies['genres'].str.contains(genre)]\n",
    "        avg_genre_votes_per_user = ratings_reduced[ratings_reduced['movieId'].isin(genre_movies['movieId']) & ratings_reduced['userId'].isin(cluster)].loc[:, ['userId', 'rating']].groupby(['userId'])['rating'].mean().round(2)\n",
    "        data = pd.concat([data, avg_genre_votes_per_user], axis=1)\n",
    "    data.columns = genres\n",
    "    current = {genre: data[genre].median() for genre in genres}\n",
    "    worst = min(current, key=current.get)\n",
    "    best = max(current, key=current.get)\n",
    "    print(f'best: {best} ({current[best]}), worst: {worst} ({current[worst]})')"
   ]
  }
 ],
 "metadata": {
  "kernelspec": {
   "display_name": "ML",
   "language": "python",
   "name": "ml"
  },
  "language_info": {
   "codemirror_mode": {
    "name": "ipython",
    "version": 3
   },
   "file_extension": ".py",
   "mimetype": "text/x-python",
   "name": "python",
   "nbconvert_exporter": "python",
   "pygments_lexer": "ipython3",
   "version": "3.10.1"
  }
 },
 "nbformat": 4,
 "nbformat_minor": 5
}
