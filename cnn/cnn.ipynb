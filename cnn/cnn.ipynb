{
 "cells": [
  {
   "cell_type": "code",
   "execution_count": 1,
   "id": "a473146e",
   "metadata": {},
   "outputs": [],
   "source": [
    "import numpy as np\n",
    "from tensorflow import keras\n",
    "from tensorflow.keras import layers\n",
    "import matplotlib.pyplot as plt\n",
    "from PIL import Image, ImageOps"
   ]
  },
  {
   "cell_type": "code",
   "execution_count": 2,
   "id": "750d345f",
   "metadata": {},
   "outputs": [],
   "source": [
    "(x_train, y_train), (x_test, y_test) = keras.datasets.mnist.load_data()\n",
    "assert(len(x_train) == len(y_train) == 60000)\n",
    "assert(len(x_test) == len(y_test) == 10000)"
   ]
  },
  {
   "cell_type": "code",
   "execution_count": 3,
   "id": "01eac464",
   "metadata": {},
   "outputs": [
    {
     "name": "stdout",
     "output_type": "stream",
     "text": [
      "x_train shape: (60000, 28, 28, 1)\n",
      "60000 train samples\n",
      "10000 test samples\n"
     ]
    }
   ],
   "source": [
    "'''\n",
    "Постобработка данных \n",
    "'''\n",
    "num_classes = 10\n",
    "\n",
    "# Нормируем значения пикселей до [0, 1]\n",
    "x_train_processed = x_train.astype('float32') / 255\n",
    "x_test_processed = x_test.astype('float32') / 255\n",
    "# Приводим данные к формату (28, 28, 1)\n",
    "x_train_processed = np.expand_dims(x_train_processed, -1)\n",
    "x_test_processed = np.expand_dims(x_test_processed, -1)\n",
    "# print('x_train shape:', x_train_processed.shape)\n",
    "# print(x_train_processed.shape[0], 'train samples')\n",
    "# print(x_test_processed.shape[0], 'test samples')\n",
    "\n",
    "y_train_processed = keras.utils.to_categorical(y_train, num_classes)\n",
    "y_test_processed = keras.utils.to_categorical(y_test, num_classes)"
   ]
  },
  {
   "cell_type": "code",
   "execution_count": 4,
   "id": "85f198ce",
   "metadata": {},
   "outputs": [
    {
     "name": "stdout",
     "output_type": "stream",
     "text": [
      "Model: \"sequential\"\n",
      "_________________________________________________________________\n",
      " Layer (type)                Output Shape              Param #   \n",
      "=================================================================\n"
     ]
    },
    {
     "name": "stderr",
     "output_type": "stream",
     "text": [
      "2022-01-24 04:44:40.821195: E tensorflow/stream_executor/cuda/cuda_driver.cc:271] failed call to cuInit: CUDA_ERROR_NO_DEVICE: no CUDA-capable device is detected\n",
      "2022-01-24 04:44:40.821242: I tensorflow/stream_executor/cuda/cuda_diagnostics.cc:156] kernel driver does not appear to be running on this host (desktop): /proc/driver/nvidia/version does not exist\n",
      "2022-01-24 04:44:40.822580: I tensorflow/core/platform/cpu_feature_guard.cc:151] This TensorFlow binary is optimized with oneAPI Deep Neural Network Library (oneDNN) to use the following CPU instructions in performance-critical operations:  AVX2 FMA\n",
      "To enable them in other operations, rebuild TensorFlow with the appropriate compiler flags.\n"
     ]
    },
    {
     "name": "stdout",
     "output_type": "stream",
     "text": [
      " conv2d (Conv2D)             (None, 26, 26, 12)        120       \n",
      "                                                                 \n",
      " max_pooling2d (MaxPooling2D  (None, 13, 13, 12)       0         \n",
      " )                                                               \n",
      "                                                                 \n",
      " conv2d_1 (Conv2D)           (None, 11, 11, 12)        1308      \n",
      "                                                                 \n",
      " max_pooling2d_1 (MaxPooling  (None, 5, 5, 12)         0         \n",
      " 2D)                                                             \n",
      "                                                                 \n",
      " conv2d_2 (Conv2D)           (None, 3, 3, 12)          1308      \n",
      "                                                                 \n",
      " flatten (Flatten)           (None, 108)               0         \n",
      "                                                                 \n",
      " dense (Dense)               (None, 12)                1308      \n",
      "                                                                 \n",
      " dense_1 (Dense)             (None, 10)                130       \n",
      "                                                                 \n",
      "=================================================================\n",
      "Total params: 4,174\n",
      "Trainable params: 4,174\n",
      "Non-trainable params: 0\n",
      "_________________________________________________________________\n"
     ]
    }
   ],
   "source": [
    "'''\n",
    "Построение модели\n",
    "'''\n",
    "model = keras.Sequential(\n",
    "    [\n",
    "        keras.Input(shape=(28, 28, 1)),\n",
    "        layers.Conv2D(12, kernel_size=(3, 3), activation='relu'),\n",
    "        layers.MaxPooling2D(pool_size=(2, 2)),\n",
    "        layers.Conv2D(12, kernel_size=(3, 3), activation='relu'),\n",
    "        layers.MaxPooling2D(pool_size=(2, 2)),\n",
    "        layers.Conv2D(12, kernel_size=(3, 3), activation='relu'),\n",
    "        layers.Flatten(),\n",
    "        layers.Dense (12, activation ='relu'),\n",
    "        layers.Dense(num_classes, activation='softmax'),\n",
    "    ]\n",
    ")\n",
    "\n",
    "model.summary()\n",
    "model.compile(loss='categorical_crossentropy', optimizer='adam', metrics=['accuracy'])"
   ]
  },
  {
   "cell_type": "code",
   "execution_count": 5,
   "id": "0d1dc500",
   "metadata": {},
   "outputs": [
    {
     "name": "stdout",
     "output_type": "stream",
     "text": [
      "Epoch 1/15\n"
     ]
    },
    {
     "name": "stderr",
     "output_type": "stream",
     "text": [
      "2022-01-24 04:44:41.063728: W tensorflow/core/framework/cpu_allocator_impl.cc:82] Allocation of 169344000 exceeds 10% of free system memory.\n"
     ]
    },
    {
     "name": "stdout",
     "output_type": "stream",
     "text": [
      "422/422 [==============================] - 7s 15ms/step - loss: 0.7749 - accuracy: 0.7462 - val_loss: 0.2459 - val_accuracy: 0.9293\n",
      "Epoch 2/15\n",
      "422/422 [==============================] - 8s 19ms/step - loss: 0.2319 - accuracy: 0.9297 - val_loss: 0.1393 - val_accuracy: 0.9583\n",
      "Epoch 3/15\n",
      "422/422 [==============================] - 8s 20ms/step - loss: 0.1497 - accuracy: 0.9550 - val_loss: 0.1025 - val_accuracy: 0.9705\n",
      "Epoch 4/15\n",
      "422/422 [==============================] - 8s 19ms/step - loss: 0.1182 - accuracy: 0.9643 - val_loss: 0.0857 - val_accuracy: 0.9737\n",
      "Epoch 5/15\n",
      "422/422 [==============================] - 9s 21ms/step - loss: 0.1004 - accuracy: 0.9695 - val_loss: 0.0798 - val_accuracy: 0.9747\n",
      "Epoch 6/15\n",
      "422/422 [==============================] - 8s 20ms/step - loss: 0.0891 - accuracy: 0.9716 - val_loss: 0.0709 - val_accuracy: 0.9812\n",
      "Epoch 7/15\n",
      "422/422 [==============================] - 7s 17ms/step - loss: 0.0814 - accuracy: 0.9747 - val_loss: 0.0686 - val_accuracy: 0.9808\n",
      "Epoch 8/15\n",
      "422/422 [==============================] - 7s 16ms/step - loss: 0.0731 - accuracy: 0.9777 - val_loss: 0.0631 - val_accuracy: 0.9823\n",
      "Epoch 9/15\n",
      "422/422 [==============================] - 8s 18ms/step - loss: 0.0674 - accuracy: 0.9792 - val_loss: 0.0625 - val_accuracy: 0.9815\n",
      "Epoch 10/15\n",
      "422/422 [==============================] - 8s 18ms/step - loss: 0.0623 - accuracy: 0.9803 - val_loss: 0.0586 - val_accuracy: 0.9822\n",
      "Epoch 11/15\n",
      "422/422 [==============================] - 8s 18ms/step - loss: 0.0580 - accuracy: 0.9821 - val_loss: 0.0584 - val_accuracy: 0.9832\n",
      "Epoch 12/15\n",
      "422/422 [==============================] - 7s 18ms/step - loss: 0.0547 - accuracy: 0.9827 - val_loss: 0.0506 - val_accuracy: 0.9868\n",
      "Epoch 13/15\n",
      "422/422 [==============================] - 7s 18ms/step - loss: 0.0522 - accuracy: 0.9833 - val_loss: 0.0537 - val_accuracy: 0.9848\n",
      "Epoch 14/15\n",
      "422/422 [==============================] - 8s 20ms/step - loss: 0.0487 - accuracy: 0.9847 - val_loss: 0.0517 - val_accuracy: 0.9862\n",
      "Epoch 15/15\n",
      "422/422 [==============================] - 8s 19ms/step - loss: 0.0474 - accuracy: 0.9846 - val_loss: 0.0497 - val_accuracy: 0.9870\n"
     ]
    },
    {
     "data": {
      "text/plain": [
       "<keras.callbacks.History at 0x7feaf882a9b0>"
      ]
     },
     "execution_count": 5,
     "metadata": {},
     "output_type": "execute_result"
    }
   ],
   "source": [
    "'''\n",
    "Обучяем модель\n",
    "'''\n",
    "\n",
    "batch_size = 128\n",
    "epochs = 15\n",
    "\n",
    "model.fit(x_train_processed, y_train_processed, batch_size=batch_size, epochs=epochs, validation_split=0.1)"
   ]
  },
  {
   "cell_type": "code",
   "execution_count": 6,
   "id": "fa9766c8",
   "metadata": {
    "scrolled": false
   },
   "outputs": [
    {
     "name": "stdout",
     "output_type": "stream",
     "text": [
      "Test loss: 0.04400048777461052\n",
      "Test accuracy: 0.9847000241279602\n"
     ]
    }
   ],
   "source": [
    "'''\n",
    "Исполняем обученную модель\n",
    "'''\n",
    "\n",
    "score = model.evaluate(x_test_processed, y_test_processed, verbose=0)\n",
    "print('Точность предсказаний:', score[1])"
   ]
  },
  {
   "cell_type": "code",
   "execution_count": 13,
   "id": "79e8d5cd",
   "metadata": {},
   "outputs": [
    {
     "name": "stdout",
     "output_type": "stream",
     "text": [
      "[0 1 2 3 4 5 6 7 8 9]\n"
     ]
    }
   ],
   "source": [
    "my_x_test = []\n",
    "my_y_test = np.arange(10)\n",
    "my_y_test = keras.utils.to_categorical(my_y_test, 10)\n",
    "\n",
    "digits = list(np.arange(10))\n",
    "for digit in digits:\n",
    "    image = ImageOps.grayscale(Image.open(f'{digit}.png'))\n",
    "    image = ImageOps.fit(image, (28, 28))\n",
    "    image_arr = np.array(image).astype('float32') / 255\n",
    "    image_arr[image_arr == 1] = 0\n",
    "    image_arr = np.expand_dims(image_arr, -1)\n",
    "    my_x_test.append(image_arr)\n",
    "\n",
    "my_x_test = np.array(my_x_test)\n",
    "\n",
    "score = model.evaluate(my_x_test, my_y_test, verbose=0)\n",
    "predictions = model.predict(my_x_test)\n",
    "classes = np.argmax(predictions, axis=1)\n",
    "print(classes) # результаты обучения"
   ]
  },
  {
   "cell_type": "code",
   "execution_count": 14,
   "id": "616ad163",
   "metadata": {},
   "outputs": [
    {
     "data": {
      "image/png": "[encoded data removed]",
      "text/plain": [
       "<Figure size 432x288 with 10 Axes>"
      ]
     },
     "metadata": {
      "needs_background": "light"
     },
     "output_type": "display_data"
    }
   ],
   "source": [
    "for digit, c in enumerate(classes):\n",
    "    plt.subplot(1, num_classes, digit + 1)\n",
    "    plt.imshow(my_x_test[digit])\n",
    "    plt.axis('off')\n",
    "    plt.title(c)\n",
    "plt.show()"
   ]
  }
 ],
 "metadata": {
  "kernelspec": {
   "display_name": "ML",
   "language": "python",
   "name": "ml"
  },
  "language_info": {
   "codemirror_mode": {
    "name": "ipython",
    "version": 3
   },
   "file_extension": ".py",
   "mimetype": "text/x-python",
   "name": "python",
   "nbconvert_exporter": "python",
   "pygments_lexer": "ipython3",
   "version": "3.10.1"
  }
 },
 "nbformat": 4,
 "nbformat_minor": 5
}
